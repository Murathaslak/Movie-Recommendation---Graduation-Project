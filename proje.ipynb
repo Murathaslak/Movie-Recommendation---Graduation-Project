{
  "cells": [
    {
      "cell_type": "markdown",
      "metadata": {
        "id": "f4dpxTTFCNQi"
      },
      "source": [
        "## Loading the libraries"
      ]
    },
    {
      "cell_type": "code",
      "execution_count": null,
      "metadata": {
        "id": "pK__TGE8ABxK"
      },
      "outputs": [],
      "source": [
        "import os\n",
        "import numpy as np\n",
        "import pandas as pd\n",
        "import matplotlib.pyplot as plt\n",
        "from sklearn.model_selection import train_test_split\n",
        "from sklearn.preprocessing import LabelEncoder"
      ]
    },
    {
      "cell_type": "code",
      "execution_count": null,
      "metadata": {
        "id": "uKKckGQngZKP"
      },
      "outputs": [],
      "source": [
        "import tensorflow as tf\n",
        "import keras\n",
        "from pprint import pprint"
      ]
    },
    {
      "cell_type": "markdown",
      "metadata": {
        "id": "o7aPc6R_O1S9"
      },
      "source": [
        "#FilmLens veri kümesi yükleniyor\n"
      ]
    },
    {
      "cell_type": "markdown",
      "metadata": {
        "id": "FZ-rNaLsO8Mj"
      },
      "source": [
        "u.info yükleniyor -- u veri setindeki kullanıcı, öğe ve derecelendirme sayısı.\n"
      ]
    },
    {
      "cell_type": "code",
      "execution_count": null,
      "metadata": {
        "colab": {
          "base_uri": "https://localhost:8080/"
        },
        "id": "1IV3uY7hOvvF",
        "outputId": "76a13a9a-6b1b-471c-ecc1-d96e21265fc3"
      },
      "outputs": [],
      "source": [
        "overall_stats = pd.read_csv('ml-1m/u.info', header=None)\n",
        "print(\"Yüklenen film lensi veri kümesine dahil olan kullanıcılar, öğeler ve derecelendirmelerin ayrıntıları: \",list(overall_stats[0]))"
      ]
    },
    {
      "cell_type": "markdown",
      "metadata": {
        "id": "pm6F7DFUPPWP"
      },
      "source": [
        "u.data yükleniyor -- Tam u veri seti, 1682 öğede 9436 kullanıcı tarafından 1.000.000 puan.\n",
        "\n",
        "---\n",
        "\n",
        "\n",
        "\n",
        "              Her kullanıcı en az 20 filmi derecelendirdi. Kullanıcılar ve öğeler\n",
        "              1'den ardışık olarak numaralandırılmıştır. Veriler rastgele sıralanmıştır. Bu, sekmeyle ayrılmış bir listedir.\n",
        "kullanıcı kimliği | öğe kimliği | derecelendirme | zaman damgası.\n",
        "              Zaman damgaları 1/1/1970 UTC'den beri unix saniyedir"
      ]
    },
    {
      "cell_type": "code",
      "execution_count": null,
      "metadata": {
        "colab": {
          "base_uri": "https://localhost:8080/",
          "height": 195
        },
        "id": "_Dm64PwPO89K",
        "outputId": "0ae36ed1-adf8-4dd7-ac16-8c9473e20eba"
      },
      "outputs": [],
      "source": [
        "## same item id is same as movie id, item id column is renamed as movie id\n",
        "column_names1 = ['user id','movie id','rating','timestamp']\n",
        "ratings_dataset = pd.read_csv('ml-1m/u.data', sep='\\t',header=None,names=column_names1)\n",
        "ratings_dataset.head() "
      ]
    },
    {
      "cell_type": "markdown",
      "metadata": {
        "id": "PAp4VVTwR6Pz"
      },
      "source": [
        "u.item yükleniyor -- Öğeler hakkında bilgi (filmler); bu ayrılmış bir sekme\n",
        "\n",
        "              listesi\n",
        "              film kimliği | film başlığı | çıkış tarihi | video yayın tarihi |\n",
        "              IMDb URL'si | bilinmeyen | Eylem | Macera | Animasyon |\n",
        "              Çocuk | komedi | Suç | belgesel | Dram | fantezi |\n",
        "              Kara Film | korku | Müzikal | Gizem | romantizm | Bilim Kurgu |\n",
        "              Gerilim | savaş | Batı |\n",
        "              Son 19 alan türlerdir, 1 ise filmi gösterir.\n",
        "              o türdense, 0 olmadığını belirtir; filmler olabilir\n",
        "              aynı anda birkaç tür.\n",
        "              Film kimlikleri, u.data veri setinde kullanılanlardır.\n"
      ]
    },
    {
      "cell_type": "code",
      "execution_count": null,
      "metadata": {
        "colab": {
          "base_uri": "https://localhost:8080/"
        },
        "id": "1qxF6i4zRMGj",
        "outputId": "efd387b6-12e4-4520-f634-16143d3e874e"
      },
      "outputs": [],
      "source": [
        "d = 'movie id | movie title | release date | video release date | IMDb URL | unknown | Action | Adventure | Animation | Children | Comedy | Crime | Documentary | Drama | Fantasy | Film-Noir | Horror | Musical | Mystery | Romance | Sci-Fi | Thriller | War | Western'\n",
        "column_names2 = d.split(' | ')\n",
        "print(column_names2)"
      ]
    },
    {
      "cell_type": "code",
      "execution_count": null,
      "metadata": {
        "colab": {
          "base_uri": "https://localhost:8080/",
          "height": 366
        },
        "id": "fZKhPm9dRqvR",
        "outputId": "44f3ae94-9e6d-4da4-d9d0-1596f6de2699"
      },
      "outputs": [],
      "source": [
        "items_dataset = pd.read_csv('ml-1m/u.item', sep='|',header=None,names=column_names2,encoding='latin-1')\n",
        "items_dataset.head()"
      ]
    },
    {
      "cell_type": "code",
      "execution_count": null,
      "metadata": {
        "colab": {
          "base_uri": "https://localhost:8080/",
          "height": 195
        },
        "id": "zjMViWz_SDlJ",
        "outputId": "3fa38eec-61c4-41c7-c363-cbcbaebee253"
      },
      "outputs": [],
      "source": [
        "movie_dataset = items_dataset[['movie id','movie title']]\n",
        "movie_dataset.head()"
      ]
    },
    {
      "cell_type": "markdown",
      "metadata": {
        "id": "hEsztTxjSiZA"
      },
      "source": [
        "Film kimliği sütununu kaldırdıktan sonra, items_dataset içindeki orijinal items_dataset uzunluğuna ve benzersiz satır kombinasyonlarının uzunluğuna bakılır"
      ]
    },
    {
      "cell_type": "code",
      "execution_count": null,
      "metadata": {
        "colab": {
          "base_uri": "https://localhost:8080/"
        },
        "id": "sdzz8nUySG_q",
        "outputId": "a0fe00d3-23c4-4125-89fa-b3be9bea9c2e"
      },
      "outputs": [],
      "source": [
        "## film kimliği sütununu kaldırdıktan sonra orijinal items_dataset uzunluğuna ve items_dataset içindeki benzersiz satır kombinasyonlarının uzunluğuna bakılır\n",
        "len(items_dataset.groupby(by=column_names2[1:])),len(items_dataset)"
      ]
    },
    {
      "cell_type": "markdown",
      "metadata": {
        "id": "zcsMvVNrS82A"
      },
      "source": [
        "Halihazırda eşlenmiş film başlığı için fazladan 18 film kimliği olduğunu ve kullanıcı öğesi veri kümesinde kullanıcıya aynı yinelenen film kimliğinin atandığını görebiliriz."
      ]
    },
    {
      "cell_type": "markdown",
      "metadata": {
        "id": "V1vln0JRTA9J"
      },
      "source": [
        "#Gerekli veri kümelerini birleştirme\n"
      ]
    },
    {
      "cell_type": "code",
      "execution_count": null,
      "metadata": {
        "colab": {
          "base_uri": "https://localhost:8080/",
          "height": 195
        },
        "id": "IBOXHTmvS6Ex",
        "outputId": "c9995cf4-c7fd-47b0-afb7-c57b7fce007c"
      },
      "outputs": [],
      "source": [
        "merged_dataset = pd.merge(ratings_dataset, movie_dataset, how='inner', on='movie id')\n",
        "merged_dataset.head()"
      ]
    },
    {
      "cell_type": "markdown",
      "metadata": {
        "id": "qlTqLn-mTUCV"
      },
      "source": [
        "Benzersiz kullanıcı kimliği ve film başlığı kombinasyonu gruplandırılarak mevcut birleştirilmiş veri kümesinden bir veri kümesi oluşturulur ve bir kullanıcının aynı filme farklı durumlarda (zaman damgaları) verdiği puanların ortalaması alınır ve yeni veri kümesinde depolanır."
      ]
    },
    {
      "cell_type": "markdown",
      "metadata": {
        "id": "U6wjxXe7TeIO"
      },
      "source": [
        "Bir kullanıcı tarafından belirli bir filme yönelik çoklu derecelendirme senaryosu örneği:"
      ]
    },
    {
      "cell_type": "code",
      "execution_count": null,
      "metadata": {
        "colab": {
          "base_uri": "https://localhost:8080/",
          "height": 106
        },
        "id": "xKgq_aXmTDft",
        "outputId": "a2c48fbb-150a-4765-c54c-7be66c36751c"
      },
      "outputs": [],
      "source": [
        "merged_dataset[(merged_dataset['movie title'] == 'Chasing Amy (1997)') & (merged_dataset['user id'] == 894)]"
      ]
    },
    {
      "cell_type": "markdown",
      "metadata": {
        "id": "kuXOfYN-UQrP"
      },
      "source": [
        "## Benzersiz kullanıcı kimliği, film adı kombinasyonu ve derecelendirmeleriyle son bir rafine veri kümesi oluşturma:"
      ]
    },
    {
      "cell_type": "code",
      "execution_count": null,
      "metadata": {
        "colab": {
          "base_uri": "https://localhost:8080/",
          "height": 195
        },
        "id": "gSybgvihTkgE",
        "outputId": "e43e9262-bca7-4c1c-c238-a47ca4d01303"
      },
      "outputs": [],
      "source": [
        "refined_dataset = merged_dataset.groupby(by=['user id','movie title'], as_index=False).agg({\"rating\":\"mean\"})\n",
        "\n",
        "refined_dataset.head()"
      ]
    },
    {
      "cell_type": "markdown",
      "metadata": {
        "id": "OVuuEkazUn20"
      },
      "source": [
        "## Derin Sinir Ağları ile uğraşırken dizinin eksik değerleri olmadığından emin olmak için kullanıcıları ve film başlıklarını kodlama."
      ]
    },
    {
      "cell_type": "code",
      "execution_count": null,
      "metadata": {
        "id": "-X1Fvj3AUTjt"
      },
      "outputs": [],
      "source": [
        "user_enc = LabelEncoder()\n",
        "refined_dataset['user'] = user_enc.fit_transform(refined_dataset['user id'].values)\n",
        "n_users = refined_dataset['user'].nunique()"
      ]
    },
    {
      "cell_type": "code",
      "execution_count": null,
      "metadata": {
        "id": "3f2vtjifW662"
      },
      "outputs": [],
      "source": [
        "item_enc = LabelEncoder()\n",
        "refined_dataset['movie'] = item_enc.fit_transform(refined_dataset['movie title'].values)\n",
        "n_movies = refined_dataset['movie'].nunique()"
      ]
    },
    {
      "cell_type": "code",
      "execution_count": null,
      "metadata": {
        "colab": {
          "base_uri": "https://localhost:8080/"
        },
        "id": "OeQb6BDbXUzI",
        "outputId": "9db3aaae-b877-4ce0-8e39-726b3de57384"
      },
      "outputs": [],
      "source": [
        "refined_dataset['rating'] = refined_dataset['rating'].values.astype(np.float32)\n",
        "min_rating = min(refined_dataset['rating'])\n",
        "max_rating = max(refined_dataset['rating'])\n",
        "n_users, n_movies, min_rating, max_rating"
      ]
    },
    {
      "cell_type": "code",
      "execution_count": null,
      "metadata": {
        "colab": {
          "base_uri": "https://localhost:8080/",
          "height": 195
        },
        "id": "2NLsO6VSXOD4",
        "outputId": "2ad334e6-8823-4104-bfe4-5b3554063252"
      },
      "outputs": [],
      "source": [
        "#******************************************************************************************************************\n",
        "\n",
        "refined_dataset.head()"
      ]
    },
    {
      "cell_type": "markdown",
      "metadata": {
        "id": "3Vrfgd7TZ08C"
      },
      "source": [
        "## Verileri eğitim ve test olarak ayırma\n"
      ]
    },
    {
      "cell_type": "code",
      "execution_count": null,
      "metadata": {
        "colab": {
          "base_uri": "https://localhost:8080/"
        },
        "id": "9q04V-GnXPFs",
        "outputId": "efadf08a-206e-4d4f-dd06-17b44fa8f693"
      },
      "outputs": [],
      "source": [
        "X = refined_dataset[['user', 'movie']].values\n",
        "y = refined_dataset['rating'].values\n",
        "X_train, X_test, y_train, y_test = train_test_split(X, y, test_size=0.3, random_state=50)\n",
        "X_train.shape, X_test.shape, y_train.shape, y_test.shape"
      ]
    },
    {
      "cell_type": "markdown",
      "metadata": {
        "id": "y3s3cccxgGPy"
      },
      "source": [
        "## Gömme katmanı tarafından dikkate alınması gereken faktörlerin tanımlanması\n"
      ]
    },
    {
      "cell_type": "code",
      "execution_count": null,
      "metadata": {
        "id": "zA39k64MaEfs"
      },
      "outputs": [],
      "source": [
        "n_factors = 32"
      ]
    },
    {
      "cell_type": "markdown",
      "metadata": {
        "id": "fcqGOsdZgaFY"
      },
      "source": [
        "Giriş dizisindeki sütunlar iki ayrı diziye bölünür. Keras bunları iki ayrı girdi olarak gördüğünden, her girdinin kendi dizisi olarak beslenmesi gerekir."
      ]
    },
    {
      "cell_type": "code",
      "execution_count": null,
      "metadata": {
        "id": "83v-ulEIgS1l"
      },
      "outputs": [],
      "source": [
        "X_train_array = [X_train[:, 0], X_train[:, 1]]\n",
        "X_test_array = [X_test[:, 0], X_test[:, 1]]\n",
        "X_train_array,X_test_array"
      ]
    },
    {
      "cell_type": "code",
      "execution_count": null,
      "metadata": {
        "colab": {
          "base_uri": "https://localhost:8080/"
        },
        "id": "OpCiDWkexTkf",
        "outputId": "1a4a2766-39ef-4fd8-e9f0-535947aae7dd"
      },
      "outputs": [],
      "source": [
        "X_train, X_train_array, X_train_array[0].shape"
      ]
    },
    {
      "cell_type": "markdown",
      "metadata": {
        "id": "fgdqWxK1IDAg"
      },
      "source": [
        "## Etiketleri normalleştirme\n"
      ]
    },
    {
      "cell_type": "code",
      "execution_count": null,
      "metadata": {
        "id": "4POYLlXTIP7G"
      },
      "outputs": [],
      "source": [
        "\n",
        "y_train = (y_train - min_rating)/(max_rating - min_rating)\n",
        "y_test = (y_test - min_rating)/(max_rating - min_rating)\n",
        "#/////////////////////////////////////////////////////////////////////////////////////////"
      ]
    },
    {
      "cell_type": "markdown",
      "metadata": {
        "id": "C_sQMkI-m-i-"
      },
      "source": [
        "## Softmax Derin Sinir Ağı Oluşturma\n"
      ]
    },
    {
      "cell_type": "code",
      "execution_count": null,
      "metadata": {
        "id": "PRBTogiuhpmV"
      },
      "outputs": [],
      "source": [
        "## Kullanıcılar için bir giriş katmanı keras tensörü başlatılır.\n",
        "## 3 boyutlu uzay başlat\n",
        "# shape 1 demek 1 boyutlu vektör yığınlarının olacağını belirtir.\n",
        "user = tf.keras.layers.Input(shape = (1,))\n",
        "\n",
        "## Kullanıcıların n_faktörü için gömme katmanı\n",
        "## Pozitif tam sayıları-dizileri sabit boyutlu yoğun vektörlere dönüştürür.\n",
        "## Gömme matrisi için başlatıcı matrix oluşturuyo embeddings_initializer\n",
        "## Gömme matrisine uygulanan düzenleyici işlevi embeddings_regularizer\n",
        "## L2 düzenlileştirme cezası uygulayan bir düzenleyici. regularizers.l2\n",
        "## 1e-6 0.000001 demek veri çok oluğundan 0-1 arasını ne kadar bölersek iyidir.\n",
        "u = keras.layers.embeddings.Embedding(n_users, n_factors, embeddings_initializer = 'he_normal', embeddings_regularizer = tf.keras.regularizers.l2(1e-6))(user)\n",
        "u = tf.keras.layers.Reshape((n_factors,))(u)\n",
        "\n",
        "## Filmler için bir giriş katmanı keras tensörü başlatılır.\n",
        "## 3 boyutlu uzay başlat\n",
        "# shape 1 demek 1 boyutlu vektör yığınlarının olacağını belirtir.\n",
        "movie = tf.keras.layers.Input(shape = (1,))\n",
        "\n",
        "## filmlerin n_faktörü için gömme katmanı\n",
        "## Pozitif tam sayıları-dizileri sabit boyutlu yoğun vektörlere dönüştürür.\n",
        "## Gömme matrisi için başlatıcı matrix oluşturuyo embeddings_initializer\n",
        "## Gömme matrisine uygulanan düzenleyici işlevi embeddings_regularizer\n",
        "## L2 düzenlileştirme cezası uygulayan bir düzenleyici. regularizers.l2\n",
        "## 1e-6 0.000001 demek veri çok oluğundan 0-1 arasını ne kadar bölersek iyidir.\n",
        "m = keras.layers.embeddings.Embedding(n_movies, n_factors, embeddings_initializer = 'he_normal', embeddings_regularizer=tf.keras.regularizers.l2(1e-6))(movie)\n",
        "## oluşan matrixi sabitler yedeniden oluşturur n_factors ile m göre matrix oluşur\n",
        "m = tf.keras.layers.Reshape((n_factors,))(m)\n",
        "\n",
        "## hem kullanıcı hem de film yerleştirmelerini istifleme\n",
        "## u ile m matrixini birleştiriyoruz\n",
        "x = tf.keras.layers.Concatenate()([u,m])\n",
        "## matrix birleştirmesi sonucu oluşan katmanda birbiriyle az etkileşim değeri olan bağlantıyı rastgele kapatıyor. 0-1 arası değer alır. aşırı öğrenmeyi engeller.\n",
        "## 0 a yakın olan değeri 0 a eşitleyerek modelin veriyle aşırı uyum sağlaması sağlanır.\n",
        "## Dropout katmanı her adımda belirtilen orandaki girdiyi rassal olarak sıfıra eşitleyerek modelin veriye aşırı uyum sağlamasının (aşırı öğrenmenin) önüne geçer.\n",
        "## iki noron arasındaki bağlantı az ise kapatılması  mantıklıdır. model bağlantı olduğu için onlada iletişim kuracaktır ama ilgi düzeyi az kapatılması mantıklı\n",
        "x = tf.keras.layers.Dropout(0.02)(x)\n",
        "\n",
        "## Mimariye Yoğun bir katman ekleme\n",
        "## Yoğun bağlantılı noral bağlantı katmanı yap\n",
        "# cıktı uzayının boyutluluğu 32 düğüm düğümler çizilir\n",
        "# relu fonksiyonula çizim tahminlerinde bulunur noranlar arasındaki düğüm çiizmi\n",
        "x = tf.keras.layers.Dense(128, kernel_initializer='he_normal')(x)\n",
        "x = tf.keras.layers.Activation(activation='relu')(x)\n",
        "x = tf.keras.layers.Dropout(0.02)(x)\n",
        "\n",
        "x = tf.keras.layers.Dense(64, kernel_initializer='he_normal')(x)\n",
        "x = tf.keras.layers.Activation(activation='relu')(x)\n",
        "x = tf.keras.layers.Dropout(0.02)(x)\n",
        "\n",
        "## cıktı katmanına ekleriz\n",
        "## softmax fonksiyonunu kullanırız girdinin belirli sınıfa ait olma olasılığını 0-1 arasına koyarız\n",
        "x = tf.keras.layers.Dense(32)(x)\n",
        "x = tf.keras.layers.Activation(activation='softmax')(x)\n",
        "\n",
        "## katmanları eğitim ve çıkarım özellikleriyle birlikte modelde gruplarız \n",
        "## bu artık bizim model nesnemiz\n",
        "model = tf.keras.models.Model(inputs=[user,movie], outputs=x)\n",
        "\n",
        "## model eğitim için yapılandırılır\n",
        "## optimizer sgd iyileştirici fonksiyonu \n",
        "## SparseCategoricalCrossentropy Etiketler ve tahminler arasındaki çapraz entropi kaybını hesaplar. bağı koparılan noranları hesaplar\n",
        "## toplamda ne kadar kayıt var. sistemdeki düzensizliği ölçer\n",
        "## Düzenin düzensizliğe doğru eğiliminin ölçüsünü belirler\n",
        "model.compile(optimizer='adam', loss=tf.keras.losses.SparseCategoricalCrossentropy(), metrics=['accuracy'])"
      ]
    },
    {
      "cell_type": "code",
      "execution_count": null,
      "metadata": {
        "colab": {
          "base_uri": "https://localhost:8080/"
        },
        "id": "7rMMb03YpJt-",
        "outputId": "4a55230d-c639-4c04-c997-4317d3dd8693"
      },
      "outputs": [],
      "source": [
        "model.summary()"
      ]
    },
    {
      "cell_type": "code",
      "execution_count": null,
      "metadata": {
        "colab": {
          "base_uri": "https://localhost:8080/"
        },
        "id": "Ky7cKIGDuSgy",
        "outputId": "636e86b7-702a-4047-d8c0-d30c8e47df47"
      },
      "outputs": [],
      "source": [
        "reduce_lr = tf.keras.callbacks.ReduceLROnPlateau(monitor='val_loss', factor=0.70, patience=3, min_lr=0.000001, verbose=1)\n",
        "\n",
        "history = model.fit(x = X_train_array, y = y_train, batch_size=64, epochs=100, verbose=1, validation_data=(X_test_array, y_test)\n",
        ",shuffle=True,callbacks=[reduce_lr])\n"
      ]
    },
    {
      "cell_type": "code",
      "execution_count": null,
      "metadata": {
        "colab": {
          "base_uri": "https://localhost:8080/",
          "height": 295
        },
        "id": "Ia_EsnKTur47",
        "outputId": "6e91d112-687e-49a5-9cf3-83395510bfa2"
      },
      "outputs": [],
      "source": [
        "plt.plot(history.history[\"loss\"][5:])\n",
        "plt.plot(history.history[\"val_loss\"][5:])\n",
        "plt.title(\"model loss\")\n",
        "plt.ylabel(\"loss\")\n",
        "plt.xlabel(\"epoch\")\n",
        "plt.legend([\"train\", \"test\"], loc=\"upper left\")\n",
        "plt.show()"
      ]
    },
    {
      "cell_type": "markdown",
      "metadata": {
        "id": "SoXBhPMiku38"
      },
      "source": [
        "## Summing up the entire code into a recommender system function:"
      ]
    },
    {
      "cell_type": "code",
      "execution_count": null,
      "metadata": {
        "id": "MwBUv7TlkuDn"
      },
      "outputs": [],
      "source": [
        "#yukarda tanımladığımız user_enc i label encoder sayesinde makine öğrenmesine algoritmalarına uygun bir hale getirdik\n",
        "\n",
        "\n",
        "def recommender_system(user_id, model, n_movies):\n",
        "#user id yi user_enc kullanarak normalize ediyoruz 0 ile -1 arası bi değer alıyor\n",
        "  encoded_user_id = user_enc.transform([user_id])\n",
        "#normalize ettiğimiz dışardan gelen kullanıcı id yi zaten elimizde normalize edilmiş id ile eşliyoruz ve onun izlediği filme ulaşıyoruz\n",
        "  seen_movies = list(refined_dataset[refined_dataset['user id'] == user_id]['movie'])\n",
        "#ardından kullanıcıya izlemediği filmleri önerebilmek için izlediği filmleri diğer izlemediklerinden çıkartıyoruz\n",
        "  unseen_movies = [i for i in range(min(refined_dataset['movie']), max(refined_dataset['movie'])+1) if i not in seen_movies]\n",
        "#eğer izlemediği film varsa if'in içine giriyoruz ve \n",
        "  model_input = [np.asarray(list(encoded_user_id)*len(unseen_movies)), np.asarray(unseen_movies)]\n",
        "  predicted_ratings = model.predict(model_input)\n",
        "  predicted_ratings = np.max(predicted_ratings, axis=1)\n",
        "  sorted_index = np.argsort(predicted_ratings)[::-1]\n",
        "  recommended_movies = item_enc.inverse_transform(sorted_index)\n",
        "  print(\"---------------------------------------------------------------------------------\")\n",
        "  print(\"\"+str(user_id)+\" ID'li kullanıcı için önerilen en iyi  \"+str(n_movies)+\" film:\")\n",
        "  pprint(list(recommended_movies[:n_movies]))"
      ]
    },
    {
      "cell_type": "code",
      "execution_count": null,
      "metadata": {
        "colab": {
          "base_uri": "https://localhost:8080/"
        },
        "id": "-qAd6yrukuK_",
        "outputId": "da16c604-2b70-4da3-eff1-9e01d38e4db7"
      },
      "outputs": [],
      "source": [
        "print(\"Kullanıcı ID Giriniz:\")\n",
        "user_id= int(input())\n",
        "\n",
        "print(\"Tavsiye edilecek film sayısını girin:\")\n",
        "n_movies = int(input())\n",
        "recommender_system(user_id,model,n_movies)\n"
      ]
    }
  ],
  "metadata": {
    "colab": {
      "authorship_tag": "ABX9TyNEZIZ1oRmoZXi5mI4AT+Ue",
      "collapsed_sections": [],
      "include_colab_link": true,
      "name": "Recommender-System-using-Softmax-DNN.ipynb",
      "provenance": []
    },
    "kernelspec": {
      "display_name": "Python 3",
      "name": "python3"
    },
    "language_info": {
      "codemirror_mode": {
        "name": "ipython",
        "version": 3
      },
      "file_extension": ".py",
      "mimetype": "text/x-python",
      "name": "python",
      "nbconvert_exporter": "python",
      "pygments_lexer": "ipython3",
      "version": "3.7.8"
    }
  },
  "nbformat": 4,
  "nbformat_minor": 0
}
